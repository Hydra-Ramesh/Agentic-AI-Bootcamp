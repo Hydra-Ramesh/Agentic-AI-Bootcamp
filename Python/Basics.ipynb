{
 "cells": [
  {
   "cell_type": "markdown",
   "id": "91dfadc2",
   "metadata": {},
   "source": [
    "### Basics"
   ]
  },
  {
   "cell_type": "code",
   "execution_count": 1,
   "id": "7cd9d547",
   "metadata": {},
   "outputs": [
    {
     "name": "stdout",
     "output_type": "stream",
     "text": [
      "Hello World\n"
     ]
    }
   ],
   "source": [
    "print(\"Hello World\")"
   ]
  },
  {
   "cell_type": "code",
   "execution_count": 3,
   "id": "cbf40ac2",
   "metadata": {},
   "outputs": [],
   "source": [
    "name=\"Ramesh\"\n",
    "age=\"21\"\n",
    "isMarried=0"
   ]
  },
  {
   "cell_type": "code",
   "execution_count": 4,
   "id": "8d628926",
   "metadata": {},
   "outputs": [
    {
     "name": "stdout",
     "output_type": "stream",
     "text": [
      "Name is : Ramesh\n",
      "Age is : 21\n",
      "Is he Married : 0\n"
     ]
    }
   ],
   "source": [
    "print(\"Name is :\",name)\n",
    "print(\"Age is :\",age)\n",
    "print(\"Is he Married :\",isMarried)"
   ]
  },
  {
   "cell_type": "code",
   "execution_count": 5,
   "id": "e53f2304",
   "metadata": {},
   "outputs": [],
   "source": [
    "#Python is Case Sensitive\n",
    "student_count=50\n",
    "Student_Count=100"
   ]
  },
  {
   "cell_type": "code",
   "execution_count": 7,
   "id": "9a9330c2",
   "metadata": {},
   "outputs": [
    {
     "data": {
      "text/plain": [
       "'\\nData Scienctist at Rubrik\\nSenior Mentor and SDE at PW\\nML Intern at Outlier\\n'"
      ]
     },
     "execution_count": 7,
     "metadata": {},
     "output_type": "execute_result"
    }
   ],
   "source": [
    "# My name is Ramesh Das and I am 21 Years old and Currently I am working with Outlier.AI as A Machine Learning Enginner and CTO of CAC Bharat and I am former PhD fello of Sharland Univervity Germany.\n",
    "\n",
    "# Content writer at Motion Durgapur\n",
    "'''\n",
    "Data Scienctist at Rubrik\n",
    "Senior Mentor and SDE at PW\n",
    "ML Intern at Outlier\n",
    "'''"
   ]
  },
  {
   "cell_type": "code",
   "execution_count": 8,
   "id": "f516a84d",
   "metadata": {},
   "outputs": [],
   "source": [
    "# data types\n",
    "# Integer, Float, String, Boolean (Basics Data Type)\n",
    "# List, Tuples, Sets, Dictionary/Objest (Advance Data Type)\n",
    "age=21 #integer\n",
    "name=\"Ramesh\" #string\n",
    "weight=62.5 #float or point\n",
    "isMarried=False #boolean\n"
   ]
  },
  {
   "cell_type": "code",
   "execution_count": 9,
   "id": "9a566bc9",
   "metadata": {},
   "outputs": [
    {
     "name": "stdout",
     "output_type": "stream",
     "text": [
      "<class 'int'>\n",
      "<class 'str'>\n",
      "<class 'float'>\n",
      "<class 'bool'>\n"
     ]
    }
   ],
   "source": [
    "print(type(age))\n",
    "print(type(name))\n",
    "print(type(weight))\n",
    "print(type(isMarried))"
   ]
  },
  {
   "cell_type": "code",
   "execution_count": 10,
   "id": "3a980a1a",
   "metadata": {},
   "outputs": [
    {
     "name": "stdout",
     "output_type": "stream",
     "text": [
      "13\n",
      "7\n",
      "30\n",
      "3.3333333333333335\n",
      "1\n",
      "3\n",
      "1000\n"
     ]
    }
   ],
   "source": [
    "#Operators\n",
    "# Arithmatic Operaotors\n",
    "x = 10\n",
    "y = 3\n",
    "print(x+y)\n",
    "print(x-y)\n",
    "print(x*y)\n",
    "print(x/y)\n",
    "print(x%y)\n",
    "print(x//y)\n",
    "print(x**y)"
   ]
  },
  {
   "cell_type": "code",
   "execution_count": 11,
   "id": "7127ded6",
   "metadata": {},
   "outputs": [
    {
     "name": "stdout",
     "output_type": "stream",
     "text": [
      "True\n",
      "False\n",
      "False\n",
      "True\n",
      "True\n",
      "False\n"
     ]
    }
   ],
   "source": [
    "# Comparison Operator\n",
    "a = 10\n",
    "b = 5\n",
    "print(a > b)\n",
    "print(a < b)\n",
    "print(a == b)\n",
    "print(a != b)\n",
    "print(a >= b)\n",
    "print(a <= b)"
   ]
  },
  {
   "cell_type": "code",
   "execution_count": null,
   "id": "b882a02e",
   "metadata": {},
   "outputs": [
    {
     "name": "stdout",
     "output_type": "stream",
     "text": [
      "P is Odd\n"
     ]
    }
   ],
   "source": [
    "# Controll Flow\n",
    "#Write a Program to check a number is it Even or Odd\n",
    "p=9\n",
    "if p%2==0:\n",
    "    print(\"P is Even\")\n",
    "else:\n",
    "    print(\"P is Odd\")"
   ]
  },
  {
   "cell_type": "code",
   "execution_count": 15,
   "id": "ca04b3a8",
   "metadata": {},
   "outputs": [
    {
     "name": "stdout",
     "output_type": "stream",
     "text": [
      "Smaller then 15\n",
      "Smaller then 10\n",
      "Smaller then 8\n"
     ]
    }
   ],
   "source": [
    "#multleple if\n",
    "q=5\n",
    "if(q<15):\n",
    "    print(\"Smaller then 15\")\n",
    "if(q<10):\n",
    "    print(\"Smaller then 10\")\n",
    "if(q<8):\n",
    "    print(\"Smaller then 8\")\n",
    "else:\n",
    "    print(\"Smaller then All Numbers\")\n"
   ]
  },
  {
   "cell_type": "code",
   "execution_count": null,
   "id": "aa308a91",
   "metadata": {},
   "outputs": [
    {
     "name": "stdout",
     "output_type": "stream",
     "text": [
      "Smaller then 15\n"
     ]
    }
   ],
   "source": [
    "#elif\n",
    "q=5\n",
    "if(q<15):\n",
    "    print(\"Smaller then 15\")\n",
    "elif(q<10):\n",
    "    print(\"Smaller then 10\")\n",
    "elif(q<8):\n",
    "    print(\"Smaller then 8\")\n",
    "else:\n",
    "    print(\"Smaller then All Numbers\")\n"
   ]
  },
  {
   "cell_type": "code",
   "execution_count": 18,
   "id": "12ed04ba",
   "metadata": {},
   "outputs": [],
   "source": [
    "# Taking Input\n",
    "num1=int(input(\"Enter the Value of num1\"))\n"
   ]
  },
  {
   "cell_type": "code",
   "execution_count": 19,
   "id": "6bc1affd",
   "metadata": {},
   "outputs": [
    {
     "name": "stdout",
     "output_type": "stream",
     "text": [
      "5\n"
     ]
    }
   ],
   "source": [
    "print(num1)"
   ]
  },
  {
   "cell_type": "code",
   "execution_count": null,
   "id": "9d5a88a1",
   "metadata": {},
   "outputs": [],
   "source": []
  }
 ],
 "metadata": {
  "kernelspec": {
   "display_name": "Python 3",
   "language": "python",
   "name": "python3"
  },
  "language_info": {
   "codemirror_mode": {
    "name": "ipython",
    "version": 3
   },
   "file_extension": ".py",
   "mimetype": "text/x-python",
   "name": "python",
   "nbconvert_exporter": "python",
   "pygments_lexer": "ipython3",
   "version": "3.12.0"
  }
 },
 "nbformat": 4,
 "nbformat_minor": 5
}
