{
 "cells": [
  {
   "cell_type": "code",
   "execution_count": 3,
   "id": "65ed7b1c",
   "metadata": {},
   "outputs": [
    {
     "name": "stdout",
     "output_type": "stream",
     "text": [
      "The Substruction is :  16\n"
     ]
    }
   ],
   "source": [
    "num1=int(input(\"Enter the value of 1st Number : \"))\n",
    "num2=int(input(\"Enter the value of 2nd Number : \"))\n",
    "o=str(input(\"Enter the Operation : \"))\n",
    "\n",
    "if(o==\"+\"):\n",
    "    print(\"The Addition is : \",num1+num2)\n",
    "elif(o==\"-\"):\n",
    "    print(\"The Substruction is : \",num1-num2)\n",
    "elif(o==\"*\"):\n",
    "    print(\"The Multiplication is : \",num1*num2)\n",
    "elif(o==\"/\"):\n",
    "    print(\"The Division is : \",num1/num2)\n",
    "elif(o==\"%\"):\n",
    "    print(\"The Modulus is : \",num1%num2)\n",
    "elif(o==\"**\"):\n",
    "    print(\"The Modulus is : \",num1**num2)\n",
    "elif(o==\"//\"):\n",
    "    print(\"The Modulus is : \",num1//num2)\n",
    "else:\n",
    "    print(\"Operation is not Available\")"
   ]
  },
  {
   "cell_type": "code",
   "execution_count": null,
   "id": "15a62038",
   "metadata": {},
   "outputs": [],
   "source": []
  }
 ],
 "metadata": {
  "kernelspec": {
   "display_name": "Python 3",
   "language": "python",
   "name": "python3"
  },
  "language_info": {
   "codemirror_mode": {
    "name": "ipython",
    "version": 3
   },
   "file_extension": ".py",
   "mimetype": "text/x-python",
   "name": "python",
   "nbconvert_exporter": "python",
   "pygments_lexer": "ipython3",
   "version": "3.12.0"
  }
 },
 "nbformat": 4,
 "nbformat_minor": 5
}
